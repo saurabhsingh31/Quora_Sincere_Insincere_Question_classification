{
 "cells": [
  {
   "cell_type": "code",
   "execution_count": 55,
   "id": "cb3efff2",
   "metadata": {
    "_cell_guid": "b1076dfc-b9ad-4769-8c92-a6c4dae69d19",
    "_uuid": "8f2839f25d086af736a60e9eeb907d3b93b6e0e5",
    "execution": {
     "iopub.execute_input": "2023-03-13T16:27:37.484128Z",
     "iopub.status.busy": "2023-03-13T16:27:37.483207Z",
     "iopub.status.idle": "2023-03-13T16:27:37.496323Z",
     "shell.execute_reply": "2023-03-13T16:27:37.495347Z"
    },
    "papermill": {
     "duration": 0.021134,
     "end_time": "2023-03-13T16:27:37.498593",
     "exception": false,
     "start_time": "2023-03-13T16:27:37.477459",
     "status": "completed"
    },
    "tags": []
   },
   "outputs": [],
   "source": [
    "import numpy as np \n",
    "import pandas as pd"
   ]
  },
  {
   "cell_type": "code",
   "execution_count": 56,
   "id": "db09254d",
   "metadata": {
    "execution": {
     "iopub.execute_input": "2023-03-13T16:27:37.507438Z",
     "iopub.status.busy": "2023-03-13T16:27:37.506541Z",
     "iopub.status.idle": "2023-03-13T16:28:01.247110Z",
     "shell.execute_reply": "2023-03-13T16:28:01.246076Z"
    },
    "papermill": {
     "duration": 23.747374,
     "end_time": "2023-03-13T16:28:01.249646",
     "exception": false,
     "start_time": "2023-03-13T16:27:37.502272",
     "status": "completed"
    },
    "tags": []
   },
   "outputs": [],
   "source": [
    "\n",
    "import tensorflow as tf\n",
    "import tensorflow_hub as hub\n",
    "import matplotlib.pyplot as plt"
   ]
  },
  {
   "cell_type": "code",
   "execution_count": 57,
   "id": "9524976c",
   "metadata": {
    "execution": {
     "iopub.execute_input": "2023-03-13T16:28:01.260379Z",
     "iopub.status.busy": "2023-03-13T16:28:01.258446Z",
     "iopub.status.idle": "2023-03-13T16:28:06.203023Z",
     "shell.execute_reply": "2023-03-13T16:28:06.202070Z"
    },
    "papermill": {
     "duration": 4.951738,
     "end_time": "2023-03-13T16:28:06.205320",
     "exception": false,
     "start_time": "2023-03-13T16:28:01.253582",
     "status": "completed"
    },
    "tags": []
   },
   "outputs": [
    {
     "data": {
      "text/plain": [
       "(1306122, 3)"
      ]
     },
     "execution_count": 57,
     "metadata": {},
     "output_type": "execute_result"
    }
   ],
   "source": [
    "data_set = pd.read_csv('C:/Users/saura/quora-insincere-questions-classification/data.csv')\n",
    "data_set.shape"
   ]
  },
  {
   "cell_type": "code",
   "execution_count": 58,
   "id": "d386f3db",
   "metadata": {
    "execution": {
     "iopub.execute_input": "2023-03-13T16:28:06.215087Z",
     "iopub.status.busy": "2023-03-13T16:28:06.214143Z",
     "iopub.status.idle": "2023-03-13T16:28:06.228797Z",
     "shell.execute_reply": "2023-03-13T16:28:06.226785Z"
    },
    "papermill": {
     "duration": 0.021608,
     "end_time": "2023-03-13T16:28:06.230919",
     "exception": false,
     "start_time": "2023-03-13T16:28:06.209311",
     "status": "completed"
    },
    "tags": []
   },
   "outputs": [
    {
     "name": "stdout",
     "output_type": "stream",
     "text": [
      "                    qid                                      question_text  \\\n",
      "0  00002165364db923c7e6  How did Quebec nationalists see their province...   \n",
      "1  000032939017120e6e44  Do you have an adopted dog, how would you enco...   \n",
      "2  0000412ca6e4628ce2cf  Why does velocity affect time? Does velocity a...   \n",
      "3  000042bf85aa498cd78e  How did Otto von Guericke used the Magdeburg h...   \n",
      "4  0000455dfa3e01eae3af  Can I convert montra helicon D to a mountain b...   \n",
      "\n",
      "   target  \n",
      "0       0  \n",
      "1       0  \n",
      "2       0  \n",
      "3       0  \n",
      "4       0  \n"
     ]
    }
   ],
   "source": [
    "print(data_set.head())"
   ]
  },
  {
   "cell_type": "code",
   "execution_count": 59,
   "id": "6d31ea26",
   "metadata": {
    "execution": {
     "iopub.execute_input": "2023-03-13T16:28:06.239635Z",
     "iopub.status.busy": "2023-03-13T16:28:06.239365Z",
     "iopub.status.idle": "2023-03-13T16:28:06.615926Z",
     "shell.execute_reply": "2023-03-13T16:28:06.614933Z"
    },
    "papermill": {
     "duration": 0.383771,
     "end_time": "2023-03-13T16:28:06.618413",
     "exception": false,
     "start_time": "2023-03-13T16:28:06.234642",
     "status": "completed"
    },
    "tags": []
   },
   "outputs": [
    {
     "data": {
      "text/plain": [
       "<AxesSubplot: title={'center': 'Target distribution'}, ylabel='Frequency'>"
      ]
     },
     "execution_count": 59,
     "metadata": {},
     "output_type": "execute_result"
    },
    {
     "data": {
      "image/png": "[encoded data removed]",
      "text/plain": [
       "<Figure size 640x480 with 1 Axes>"
      ]
     },
     "metadata": {},
     "output_type": "display_data"
    }
   ],
   "source": [
    "data_set['target'].plot(kind='hist',title='Target distribution')"
   ]
  },
  {
   "cell_type": "code",
   "execution_count": 60,
   "id": "1d528463",
   "metadata": {
    "execution": {
     "iopub.execute_input": "2023-03-13T16:28:06.629437Z",
     "iopub.status.busy": "2023-03-13T16:28:06.628529Z",
     "iopub.status.idle": "2023-03-13T16:28:08.361234Z",
     "shell.execute_reply": "2023-03-13T16:28:08.360107Z"
    },
    "papermill": {
     "duration": 1.741174,
     "end_time": "2023-03-13T16:28:08.364010",
     "exception": false,
     "start_time": "2023-03-13T16:28:06.622836",
     "status": "completed"
    },
    "tags": []
   },
   "outputs": [
    {
     "data": {
      "text/plain": [
       "((1044897, 3), (261225, 3), (258612, 3), (2613, 3))"
      ]
     },
     "execution_count": 60,
     "metadata": {},
     "output_type": "execute_result"
    }
   ],
   "source": [
    "from sklearn.model_selection  import train_test_split\n",
    "# x,test_x,y,test_y = train_test_split(X,y,test_size=0.2)\n",
    "train_set, remaining = train_test_split(data_set,random_state= 42,train_size=0.8,stratify = data_set.target.values)\n",
    "test_set , _ = train_test_split(remaining,random_state= 42,train_size=0.99,stratify = remaining.target.values)\n",
    "train_set.shape, remaining.shape, test_set.shape, _.shape"
   ]
  },
  {
   "cell_type": "code",
   "execution_count": 61,
   "id": "704ad577",
   "metadata": {
    "execution": {
     "iopub.execute_input": "2023-03-13T16:28:08.373739Z",
     "iopub.status.busy": "2023-03-13T16:28:08.373441Z",
     "iopub.status.idle": "2023-03-13T16:28:08.380754Z",
     "shell.execute_reply": "2023-03-13T16:28:08.379860Z"
    },
    "papermill": {
     "duration": 0.014205,
     "end_time": "2023-03-13T16:28:08.382599",
     "exception": false,
     "start_time": "2023-03-13T16:28:08.368394",
     "status": "completed"
    },
    "tags": []
   },
   "outputs": [
    {
     "data": {
      "text/plain": [
       "array([0, 0, 0, 0, 0, 0, 0, 1, 0, 0, 0, 0, 0, 0, 0], dtype=int64)"
      ]
     },
     "execution_count": 61,
     "metadata": {},
     "output_type": "execute_result"
    }
   ],
   "source": [
    "train_set.target.head(15).values"
   ]
  },
  {
   "cell_type": "code",
   "execution_count": 62,
   "id": "21364f25",
   "metadata": {
    "execution": {
     "iopub.execute_input": "2023-03-13T16:28:08.393628Z",
     "iopub.status.busy": "2023-03-13T16:28:08.392116Z",
     "iopub.status.idle": "2023-03-13T16:28:08.400741Z",
     "shell.execute_reply": "2023-03-13T16:28:08.399929Z"
    },
    "papermill": {
     "duration": 0.015975,
     "end_time": "2023-03-13T16:28:08.402653",
     "exception": false,
     "start_time": "2023-03-13T16:28:08.386678",
     "status": "completed"
    },
    "tags": []
   },
   "outputs": [
    {
     "data": {
      "text/plain": [
       "array(['Which is the best career after 12th?',\n",
       "       'What are the role of thinking in human life and show how person life can be enfluenced positevely or negatively by his or her thinking pattern?',\n",
       "       'Is strange that for most of the time I am happy to just be alone, walking outside and just thinking about things?',\n",
       "       'If magic is real, should we allow people to teach and learn it?',\n",
       "       'How effective is cognitive behavioral therapy for depression?',\n",
       "       'What are the highlights of Union Budget 2018-19? Who got the major benefits?',\n",
       "       'What are the top 5 gadgets I need to bring for street photography? I’ll be going to Tokyo next month. And I need some help with my gadgets and gears. I only have my iPhone 7plus with me. Any suggestions would be gold for me.',\n",
       "       'Are women allowed to go to school?',\n",
       "       \"What would happen if every triple A game since 2000 had it's complete source code released tomorrow?\",\n",
       "       'Can you predict my future? I was born at 17:30 on the 8th October 1990 in Hyderabad, India.',\n",
       "       'What are the different quotes in \"The Invention of Hugo Cabret\"?',\n",
       "       'Is data not a form of energy? Can it be exhausted?',\n",
       "       'Who invented coins?',\n",
       "       'What has life taught you that you will never ever forget, even if you were to start over as a child?',\n",
       "       'Do YouTubers get paid cash by YouTube?'], dtype=object)"
      ]
     },
     "execution_count": 62,
     "metadata": {},
     "output_type": "execute_result"
    }
   ],
   "source": [
    "train_set['question_text'].head(15).values"
   ]
  },
  {
   "cell_type": "code",
   "execution_count": 63,
   "id": "22d7458c",
   "metadata": {
    "execution": {
     "iopub.execute_input": "2023-03-13T16:28:08.413214Z",
     "iopub.status.busy": "2023-03-13T16:28:08.412409Z",
     "iopub.status.idle": "2023-03-13T16:28:08.416654Z",
     "shell.execute_reply": "2023-03-13T16:28:08.415667Z"
    },
    "papermill": {
     "duration": 0.011808,
     "end_time": "2023-03-13T16:28:08.419024",
     "exception": false,
     "start_time": "2023-03-13T16:28:08.407216",
     "status": "completed"
    },
    "tags": []
   },
   "outputs": [],
   "source": [
    "module_url = \"https://tfhub.dev/google/tf2-preview/gnews-swivel-20dim/1\" "
   ]
  },
  {
   "cell_type": "code",
   "execution_count": 64,
   "id": "20754af8",
   "metadata": {
    "execution": {
     "iopub.execute_input": "2023-03-13T16:28:08.428766Z",
     "iopub.status.busy": "2023-03-13T16:28:08.428470Z",
     "iopub.status.idle": "2023-03-13T16:28:31.849661Z",
     "shell.execute_reply": "2023-03-13T16:28:31.848383Z"
    },
    "papermill": {
     "duration": 23.429448,
     "end_time": "2023-03-13T16:28:31.852736",
     "exception": false,
     "start_time": "2023-03-13T16:28:08.423288",
     "status": "completed"
    },
    "tags": []
   },
   "outputs": [
    {
     "name": "stdout",
     "output_type": "stream",
     "text": [
      "Model: \"sequential_3\"\n",
      "_________________________________________________________________\n",
      " Layer (type)                Output Shape              Param #   \n",
      "=================================================================\n",
      " keras_layer_3 (KerasLayer)  (None, 20)                400020    \n",
      "                                                                 \n",
      " dense_9 (Dense)             (None, 256)               5376      \n",
      "                                                                 \n",
      " dense_10 (Dense)            (None, 64)                16448     \n",
      "                                                                 \n",
      " dense_11 (Dense)            (None, 1)                 65        \n",
      "                                                                 \n",
      "=================================================================\n",
      "Total params: 421,909\n",
      "Trainable params: 21,889\n",
      "Non-trainable params: 400,020\n",
      "_________________________________________________________________\n",
      "Epoch 1/10\n",
      "8164/8164 [==============================] - 91s 11ms/step - loss: 0.2147 - accuracy: 0.9382 - val_loss: 0.1758 - val_accuracy: 0.9428\n",
      "Epoch 2/10\n",
      "8164/8164 [==============================] - 83s 10ms/step - loss: 0.1682 - accuracy: 0.9416 - val_loss: 0.1719 - val_accuracy: 0.9435\n",
      "Epoch 3/10\n",
      "8164/8164 [==============================] - 81s 10ms/step - loss: 0.1643 - accuracy: 0.9420 - val_loss: 0.1693 - val_accuracy: 0.9428\n",
      "Epoch 4/10\n",
      "8164/8164 [==============================] - 79s 10ms/step - loss: 0.1622 - accuracy: 0.9423 - val_loss: 0.1669 - val_accuracy: 0.9404\n",
      "Epoch 5/10\n",
      "8164/8164 [==============================] - 97s 12ms/step - loss: 0.1608 - accuracy: 0.9425 - val_loss: 0.1654 - val_accuracy: 0.9404\n",
      "Epoch 6/10\n",
      "8164/8164 [==============================] - 95s 12ms/step - loss: 0.1598 - accuracy: 0.9427 - val_loss: 0.1638 - val_accuracy: 0.9404\n",
      "Epoch 7/10\n",
      "8164/8164 [==============================] - 87s 11ms/step - loss: 0.1591 - accuracy: 0.9428 - val_loss: 0.1628 - val_accuracy: 0.9404\n",
      "Epoch 8/10\n",
      "8164/8164 [==============================] - 81s 10ms/step - loss: 0.1585 - accuracy: 0.9428 - val_loss: 0.1621 - val_accuracy: 0.9404\n",
      "Epoch 9/10\n",
      "8164/8164 [==============================] - 80s 10ms/step - loss: 0.1580 - accuracy: 0.9429 - val_loss: 0.1615 - val_accuracy: 0.9420\n",
      "Epoch 10/10\n",
      "8164/8164 [==============================] - 82s 10ms/step - loss: 0.1576 - accuracy: 0.9430 - val_loss: 0.1608 - val_accuracy: 0.9397\n",
      "DONE\n"
     ]
    }
   ],
   "source": [
    "hub_layer = hub.KerasLayer(module_url,input_shape=[],output_shape=[20],dtype=tf.string,trainable=False)\n",
    "model = tf.keras.Sequential([\n",
    "      hub_layer,\n",
    "      tf.keras.layers.Dense(256,'relu'),\n",
    "      tf.keras.layers.Dense(64,'relu'),\n",
    "      tf.keras.layers.Dense(1,'sigmoid')\n",
    "  ])\n",
    "model.compile(optimizer= tf.keras.optimizers.Adam(learning_rate= 0.00001),loss ='binary_crossentropy',metrics =['accuracy'] )\n",
    "model.summary()\n",
    "history = model.fit(train_set.question_text, train_set.target,epochs = 10,batch_size=128, validation_data=(valid_set['question_text'],valid_set['target']),\n",
    "                      callbacks=tf.keras.callbacks.EarlyStopping(monitor='val_loss',patience=2,mode='min'))\n",
    "print(\"DONE\")\n"
   ]
  },
  {
   "cell_type": "code",
   "execution_count": 65,
   "id": "884e8aa6",
   "metadata": {
    "execution": {
     "iopub.execute_input": "2023-03-13T16:28:31.896776Z",
     "iopub.status.busy": "2023-03-13T16:28:31.896472Z",
     "iopub.status.idle": "2023-03-13T16:28:31.909610Z",
     "shell.execute_reply": "2023-03-13T16:28:31.908645Z"
    },
    "papermill": {
     "duration": 0.036245,
     "end_time": "2023-03-13T16:28:31.911699",
     "exception": false,
     "start_time": "2023-03-13T16:28:31.875454",
     "status": "completed"
    },
    "tags": []
   },
   "outputs": [
    {
     "data": {
      "text/html": [
       "<div>\n",
       "<style scoped>\n",
       "    .dataframe tbody tr th:only-of-type {\n",
       "        vertical-align: middle;\n",
       "    }\n",
       "\n",
       "    .dataframe tbody tr th {\n",
       "        vertical-align: top;\n",
       "    }\n",
       "\n",
       "    .dataframe thead th {\n",
       "        text-align: right;\n",
       "    }\n",
       "</style>\n",
       "<table border=\"1\" class=\"dataframe\">\n",
       "  <thead>\n",
       "    <tr style=\"text-align: right;\">\n",
       "      <th></th>\n",
       "      <th>qid</th>\n",
       "      <th>question_text</th>\n",
       "      <th>target</th>\n",
       "    </tr>\n",
       "  </thead>\n",
       "  <tbody>\n",
       "    <tr>\n",
       "      <th>807482</th>\n",
       "      <td>9e388ca64298cae74468</td>\n",
       "      <td>Can we apply Coolpad theme in mi phone?</td>\n",
       "      <td>0</td>\n",
       "    </tr>\n",
       "    <tr>\n",
       "      <th>496123</th>\n",
       "      <td>61262ef758208f90ff65</td>\n",
       "      <td>What's the name of this worm in the picture be...</td>\n",
       "      <td>0</td>\n",
       "    </tr>\n",
       "    <tr>\n",
       "      <th>1085425</th>\n",
       "      <td>d4b5ae8dd92f0939999f</td>\n",
       "      <td>What are the most incredible palaces in Rajast...</td>\n",
       "      <td>0</td>\n",
       "    </tr>\n",
       "    <tr>\n",
       "      <th>343736</th>\n",
       "      <td>43552e6e4e16651a05cc</td>\n",
       "      <td>What is the best Greyhound station?</td>\n",
       "      <td>0</td>\n",
       "    </tr>\n",
       "    <tr>\n",
       "      <th>1187771</th>\n",
       "      <td>e8c254a8b2ee054af898</td>\n",
       "      <td>Why is it called as operatonal amplifier?</td>\n",
       "      <td>0</td>\n",
       "    </tr>\n",
       "  </tbody>\n",
       "</table>\n",
       "</div>"
      ],
      "text/plain": [
       "                          qid  \\\n",
       "807482   9e388ca64298cae74468   \n",
       "496123   61262ef758208f90ff65   \n",
       "1085425  d4b5ae8dd92f0939999f   \n",
       "343736   43552e6e4e16651a05cc   \n",
       "1187771  e8c254a8b2ee054af898   \n",
       "\n",
       "                                             question_text  target  \n",
       "807482             Can we apply Coolpad theme in mi phone?       0  \n",
       "496123   What's the name of this worm in the picture be...       0  \n",
       "1085425  What are the most incredible palaces in Rajast...       0  \n",
       "343736                 What is the best Greyhound station?       0  \n",
       "1187771          Why is it called as operatonal amplifier?       0  "
      ]
     },
     "execution_count": 65,
     "metadata": {},
     "output_type": "execute_result"
    }
   ],
   "source": [
    "test_set.head()"
   ]
  },
  {
   "cell_type": "code",
   "execution_count": 66,
   "id": "63a6bd53",
   "metadata": {
    "execution": {
     "iopub.execute_input": "2023-03-13T16:28:31.955021Z",
     "iopub.status.busy": "2023-03-13T16:28:31.954750Z",
     "iopub.status.idle": "2023-03-13T16:29:13.070008Z",
     "shell.execute_reply": "2023-03-13T16:29:13.069009Z"
    },
    "papermill": {
     "duration": 41.157943,
     "end_time": "2023-03-13T16:29:13.090737",
     "exception": false,
     "start_time": "2023-03-13T16:28:31.932794",
     "status": "completed"
    },
    "tags": []
   },
   "outputs": [
    {
     "name": "stdout",
     "output_type": "stream",
     "text": [
      "8082/8082 [==============================] - 16s 2ms/step\n"
     ]
    },
    {
     "data": {
      "text/plain": [
       "array([[0.00699163],\n",
       "       [0.0158706 ],\n",
       "       [0.02590608],\n",
       "       ...,\n",
       "       [0.00159232],\n",
       "       [0.00071671],\n",
       "       [0.02614871]], dtype=float32)"
      ]
     },
     "execution_count": 66,
     "metadata": {},
     "output_type": "execute_result"
    }
   ],
   "source": [
    "preds=model.predict(test_set['question_text'])\n",
    "preds"
   ]
  },
  {
   "cell_type": "code",
   "execution_count": 67,
   "id": "995b3878",
   "metadata": {
    "execution": {
     "iopub.execute_input": "2023-03-13T16:29:13.132923Z",
     "iopub.status.busy": "2023-03-13T16:29:13.132070Z",
     "iopub.status.idle": "2023-03-13T16:29:15.975944Z",
     "shell.execute_reply": "2023-03-13T16:29:15.975001Z"
    },
    "papermill": {
     "duration": 2.867469,
     "end_time": "2023-03-13T16:29:15.978165",
     "exception": false,
     "start_time": "2023-03-13T16:29:13.110696",
     "status": "completed"
    },
    "tags": []
   },
   "outputs": [
    {
     "data": {
      "text/html": [
       "<div>\n",
       "<style scoped>\n",
       "    .dataframe tbody tr th:only-of-type {\n",
       "        vertical-align: middle;\n",
       "    }\n",
       "\n",
       "    .dataframe tbody tr th {\n",
       "        vertical-align: top;\n",
       "    }\n",
       "\n",
       "    .dataframe thead th {\n",
       "        text-align: right;\n",
       "    }\n",
       "</style>\n",
       "<table border=\"1\" class=\"dataframe\">\n",
       "  <thead>\n",
       "    <tr style=\"text-align: right;\">\n",
       "      <th></th>\n",
       "      <th>Predictions</th>\n",
       "      <th>Text</th>\n",
       "    </tr>\n",
       "  </thead>\n",
       "  <tbody>\n",
       "    <tr>\n",
       "      <th>807482</th>\n",
       "      <td>[0.01]</td>\n",
       "      <td>Can we apply Coolpad theme in mi phone?</td>\n",
       "    </tr>\n",
       "    <tr>\n",
       "      <th>496123</th>\n",
       "      <td>[0.02]</td>\n",
       "      <td>What's the name of this worm in the picture be...</td>\n",
       "    </tr>\n",
       "    <tr>\n",
       "      <th>1085425</th>\n",
       "      <td>[0.03]</td>\n",
       "      <td>What are the most incredible palaces in Rajast...</td>\n",
       "    </tr>\n",
       "    <tr>\n",
       "      <th>343736</th>\n",
       "      <td>[0.01]</td>\n",
       "      <td>What is the best Greyhound station?</td>\n",
       "    </tr>\n",
       "    <tr>\n",
       "      <th>1187771</th>\n",
       "      <td>[0.06]</td>\n",
       "      <td>Why is it called as operatonal amplifier?</td>\n",
       "    </tr>\n",
       "    <tr>\n",
       "      <th>...</th>\n",
       "      <td>...</td>\n",
       "      <td>...</td>\n",
       "    </tr>\n",
       "    <tr>\n",
       "      <th>590071</th>\n",
       "      <td>[0.04]</td>\n",
       "      <td>I just met someone a week ago. And yet, it fee...</td>\n",
       "    </tr>\n",
       "    <tr>\n",
       "      <th>1133671</th>\n",
       "      <td>[0.07]</td>\n",
       "      <td>Is European culture shaped by a battle between...</td>\n",
       "    </tr>\n",
       "    <tr>\n",
       "      <th>302304</th>\n",
       "      <td>[0.0]</td>\n",
       "      <td>What's the easiest way to create a quiz which ...</td>\n",
       "    </tr>\n",
       "    <tr>\n",
       "      <th>1091011</th>\n",
       "      <td>[0.0]</td>\n",
       "      <td>Are you looking to enhance your written content?</td>\n",
       "    </tr>\n",
       "    <tr>\n",
       "      <th>1115834</th>\n",
       "      <td>[0.03]</td>\n",
       "      <td>Can I still be a good leader even though I stu...</td>\n",
       "    </tr>\n",
       "  </tbody>\n",
       "</table>\n",
       "<p>258612 rows × 2 columns</p>\n",
       "</div>"
      ],
      "text/plain": [
       "        Predictions                                               Text\n",
       "807482       [0.01]            Can we apply Coolpad theme in mi phone?\n",
       "496123       [0.02]  What's the name of this worm in the picture be...\n",
       "1085425      [0.03]  What are the most incredible palaces in Rajast...\n",
       "343736       [0.01]                What is the best Greyhound station?\n",
       "1187771      [0.06]          Why is it called as operatonal amplifier?\n",
       "...             ...                                                ...\n",
       "590071       [0.04]  I just met someone a week ago. And yet, it fee...\n",
       "1133671      [0.07]  Is European culture shaped by a battle between...\n",
       "302304        [0.0]  What's the easiest way to create a quiz which ...\n",
       "1091011       [0.0]   Are you looking to enhance your written content?\n",
       "1115834      [0.03]  Can I still be a good leader even though I stu...\n",
       "\n",
       "[258612 rows x 2 columns]"
      ]
     },
     "execution_count": 67,
     "metadata": {},
     "output_type": "execute_result"
    }
   ],
   "source": [
    "df = pd.DataFrame({\"Predictions\": [np.round(i,2) for i in preds],\"Text\":test_set['question_text']})\n",
    "df"
   ]
  },
  {
   "cell_type": "code",
   "execution_count": 68,
   "id": "e45d204d",
   "metadata": {
    "execution": {
     "iopub.execute_input": "2023-03-13T16:29:16.022809Z",
     "iopub.status.busy": "2023-03-13T16:29:16.022021Z",
     "iopub.status.idle": "2023-03-13T16:29:16.051177Z",
     "shell.execute_reply": "2023-03-13T16:29:16.050277Z"
    },
    "papermill": {
     "duration": 0.053932,
     "end_time": "2023-03-13T16:29:16.053553",
     "exception": false,
     "start_time": "2023-03-13T16:29:15.999621",
     "status": "completed"
    },
    "tags": []
   },
   "outputs": [],
   "source": [
    "model.save('/kaggle/working/my_model.h5')"
   ]
  },
  {
   "cell_type": "code",
   "execution_count": 69,
   "id": "1a43b59e",
   "metadata": {
    "execution": {
     "iopub.execute_input": "2023-03-13T16:29:16.099061Z",
     "iopub.status.busy": "2023-03-13T16:29:16.098753Z",
     "iopub.status.idle": "2023-03-13T16:29:16.675379Z",
     "shell.execute_reply": "2023-03-13T16:29:16.674394Z"
    },
    "papermill": {
     "duration": 0.601892,
     "end_time": "2023-03-13T16:29:16.677807",
     "exception": false,
     "start_time": "2023-03-13T16:29:16.075915",
     "status": "completed"
    },
    "tags": []
   },
   "outputs": [
    {
     "name": "stdout",
     "output_type": "stream",
     "text": [
      "1/1 [==============================] - 1s 750ms/step - loss: 3.1079 - accuracy: 0.0000e+00\n",
      "1/1 [==============================] - 0s 146ms/step\n"
     ]
    },
    {
     "data": {
      "text/plain": [
       "array([[0.04562213]], dtype=float32)"
      ]
     },
     "execution_count": 69,
     "metadata": {},
     "output_type": "execute_result"
    }
   ],
   "source": [
    "test_input = ['Who is Illiteratendra Modi? Why does he keep with him a Rs 1 lakh pen?']\n",
    "test_output=[1]\n",
    "model_load = tf.keras.models.load_model(('/kaggle/working/my_model.h5'),custom_objects={'KerasLayer':hub.KerasLayer})\n",
    "\n",
    "model_load.fit(test_input,test_output)\n",
    "model_load.predict(test_input)"
   ]
  },
  {
   "cell_type": "code",
   "execution_count": 70,
   "id": "2254dee4",
   "metadata": {},
   "outputs": [
    {
     "name": "stdout",
     "output_type": "stream",
     "text": [
      "41/41 [==============================] - 0s 2ms/step - loss: 0.1608 - accuracy: 0.9397\n"
     ]
    },
    {
     "data": {
      "text/plain": [
       "[0.16082307696342468, 0.9396751523017883]"
      ]
     },
     "execution_count": 70,
     "metadata": {},
     "output_type": "execute_result"
    }
   ],
   "source": [
    "model.evaluate(valid_set['question_text'],valid_set['target'])"
   ]
  },
  {
   "cell_type": "code",
   "execution_count": 71,
   "id": "b1b0299e",
   "metadata": {},
   "outputs": [
    {
     "data": {
      "image/png": "[encoded data removed]",
      "text/plain": [
       "<Figure size 1200x600 with 2 Axes>"
      ]
     },
     "metadata": {},
     "output_type": "display_data"
    }
   ],
   "source": [
    "plt.style.use(\"ggplot\")\n",
    "fig = plt.figure(figsize=(12,6))\n",
    "epochs = range(1,11)\n",
    "plt.subplot(1,2,1)\n",
    "plt.plot(epochs,history.history[\"accuracy\"],\"go-\")\n",
    "plt.plot(epochs,history.history[\"val_accuracy\"],\"ro-\")\n",
    "plt.title(\"Model Accuracy\")\n",
    "plt.xlabel(\"Epochs\")\n",
    "plt.ylabel(\"Accuracy\")\n",
    "plt.legend([\"Train\",\"val\"],loc = \"upper left\")\n",
    "#plt.show()\n",
    "\n",
    "plt.subplot(1,2,2)\n",
    "plt.plot(epochs,history.history[\"loss\"],\"go-\")\n",
    "plt.plot(epochs,history.history[\"val_loss\"],\"ro-\")\n",
    "plt.title(\"Model Loss\")\n",
    "plt.xlabel(\"Epochs\")\n",
    "plt.ylabel(\"Loss\")\n",
    "plt.legend([\"Train\",\"val\"],loc = \"upper left\")\n",
    "plt.show()"
   ]
  },
  {
   "cell_type": "code",
   "execution_count": null,
   "id": "3295dbc4",
   "metadata": {},
   "outputs": [],
   "source": []
  }
 ],
 "metadata": {
  "kernelspec": {
   "display_name": "Python 3 (ipykernel)",
   "language": "python",
   "name": "python3"
  },
  "language_info": {
   "codemirror_mode": {
    "name": "ipython",
    "version": 3
   },
   "file_extension": ".py",
   "mimetype": "text/x-python",
   "name": "python",
   "nbconvert_exporter": "python",
   "pygments_lexer": "ipython3",
   "version": "3.11.1"
  },
  "papermill": {
   "default_parameters": {},
   "duration": 110.443044,
   "end_time": "2023-03-13T16:29:19.838170",
   "environment_variables": {},
   "exception": null,
   "input_path": "__notebook__.ipynb",
   "output_path": "__notebook__.ipynb",
   "parameters": {},
   "start_time": "2023-03-13T16:27:29.395126",
   "version": "2.3.4"
  }
 },
 "nbformat": 4,
 "nbformat_minor": 5
}
